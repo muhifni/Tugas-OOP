{
 "cells": [
  {
   "cell_type": "markdown",
   "metadata": {
    "id": "tPBAeoa4NxzC"
   },
   "source": [
    "**Operasi modulus**\n",
    "\n",
    "Modulus memang jarang dipakai namun, dibeberapa kasus modulus sangat berguna untuk mempercepat proses perhitungan. Modulus sendiri merupakan fungsi yang akan menghitung sisa dari hasil pembagian. Untuk lebih jelasnya silahkan lakukan praktek di bawah ini :\n",
    "``` javascript\n",
    "c=10\n",
    "d=3\n",
    "\n",
    "modulus=c%d\n",
    "print(\"Hasil modulus\",modulus)\n",
    "```\n",
    "Ketikan code cell di bawah ini pada editor:"
   ]
  },
  {
   "cell_type": "code",
   "execution_count": 4,
   "metadata": {
    "id": "fhfc8ABhOxQa"
   },
   "outputs": [
    {
     "name": "stdout",
     "output_type": "stream",
     "text": [
      "Hasil modulus: 1\n"
     ]
    }
   ],
   "source": [
    "##Jawaban Tugas Praktek 3.2\n",
    "c = 10\n",
    "d = 3\n",
    "\n",
    "modulus = c%d\n",
    "print(\"Hasil modulus:\", modulus)"
   ]
  },
  {
   "cell_type": "markdown",
   "metadata": {
    "id": "dvFFTUG2O_Cb"
   },
   "source": [
    "Kenapa modulus bisa seperti itu? (berikan jawaban anda pada cell teks diabawah ini)"
   ]
  },
  {
   "cell_type": "markdown",
   "metadata": {
    "id": "Fn8nPF6TPEGa"
   },
   "source": [
    "##Jawaban Keterangan \n",
    "Operator modulus mengambil pernyataan pembagian dan mengembalikan apa pun yang tersisa dari perhitungan itu, data \"yang tersisa\" atau dengan kata lain Hasil dari pembagian modulo adalah sisa dari pembagian bilangan bulat dari bilangan yang diberikan.\n",
    "\n",
    "Programmatic Answer:\n",
    "10 % 3 ???\n",
    "Bilangan apa yang dikalikan 3 untuk mendapatkan 10?\n",
    "Dua Kondisi: Pengali dimulai dari `0`. Hasil keluaran tidak boleh melebihi `10`.\n",
    "     0 x 3 = 0\n",
    "(+1) 1 x 3 = 3\n",
    "(+1) 2 x 3 = 6\n",
    "(+1) 3 x 3 = 9\n",
    "(+1) 4 x 3 = 12 salah, karena tidak boleh melebihi 10\n",
    "maka kita akan mengambil (3 x 3 = 9)\n",
    "\n",
    "Berapa banyak yang perlu kita tambahkan ke 9(nomor yang baru kita dapatkan dari langkah diatas) untuk mendapatkan 10?\n",
    "10 - 9 = 1\n",
    "jadi jawabn untuk 10 % 3 = 1\n",
    "\n",
    "bahan jawaban : https://stackoverflow.com/questions/17524673/understanding-the-modulus-operator"
   ]
  }
 ],
 "metadata": {
  "colab": {
   "collapsed_sections": [],
   "name": "4.2_Operasi_modulus.ipynb",
   "provenance": []
  },
  "kernelspec": {
   "display_name": "Python 3",
   "language": "python",
   "name": "python3"
  },
  "language_info": {
   "codemirror_mode": {
    "name": "ipython",
    "version": 3
   },
   "file_extension": ".py",
   "mimetype": "text/x-python",
   "name": "python",
   "nbconvert_exporter": "python",
   "pygments_lexer": "ipython3",
   "version": "3.8.3"
  }
 },
 "nbformat": 4,
 "nbformat_minor": 1
}
