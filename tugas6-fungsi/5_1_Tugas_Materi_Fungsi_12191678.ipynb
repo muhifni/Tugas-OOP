{
 "cells": [
  {
   "cell_type": "code",
   "execution_count": null,
   "metadata": {
    "id": "22s8pI85u5_J"
   },
   "outputs": [],
   "source": []
  },
  {
   "cell_type": "markdown",
   "metadata": {
    "id": "fPMZcyuxvINI"
   },
   "source": [
    "**Soal 5.1.1**\n",
    "\n",
    "Berikut ini adalah potongan kode implementasi fungsi *luas_limas_segi_empat()*\n",
    "``` javascript\n",
    "print(\"Luas : %d\" % luas_limas_segi_empat(Alas_limas, Tinggi_limas))​\n",
    "```\n",
    "Lengkapilah kode tersebut dengan merancang sebuah fungsi agar bisa diimplementasikan sesuai dengan statment potongan kode diatas.\n",
    "dengan mengetikan pada code cell di bawah ini pada editor."
   ]
  },
  {
   "cell_type": "code",
   "execution_count": null,
   "metadata": {},
   "outputs": [],
   "source": []
  },
  {
   "cell_type": "code",
   "execution_count": 32,
   "metadata": {
    "id": "WMeeaGjuxQfL"
   },
   "outputs": [
    {
     "name": "stdout",
     "output_type": "stream",
     "text": [
      "Masukkan angka sisi: 4\n",
      "Luas alas limas: 16 cm2 \n",
      "\n",
      "Masukkan angka tinggi: 6\n",
      "Luas tinggi limas: 48 cm2 \n",
      "\n",
      "Luas limas segi empat = alas limas +  tinggi limas\n",
      "Luas = 16 + 48 \n",
      "Luas : 64 cm2\n"
     ]
    }
   ],
   "source": [
    "# Soal 4.1.1\n",
    "\n",
    "# rumus mencari permukaan limas\n",
    "# L = Luas alas + luas selimut\n",
    "\n",
    "# rumus \n",
    "\n",
    "# Apabila alas limas berbentuk persegi, maka persamaan menjadi:\n",
    "# L = ( s x s ) + ( 4 x 1/2 x s x t. selimut )\n",
    "\n",
    "# Keterangan Rumus:\n",
    "# L adalah Luas permukaan limas\n",
    "# p adalah panjang alas limas\n",
    "# l adalah lebar alas limas\n",
    "# t.selimut adalah tinggi segitiga selimut\n",
    "\n",
    "# Membuat fungsi utk mencari permukaan limas\n",
    "# Karena alas berbentuk persegi, maka rumus luas = sisi x sisi\n",
    "def hitung_alas_limas(sisi):\n",
    "    luas = sisi * sisi\n",
    "    return luas\n",
    "\n",
    "# Membuat fungsi utk mencari luas sisi tegak atau tinggi limas\n",
    "# rumus luas sisi tegak / tinggi limas = 4 x (1/2 x s x t)\n",
    "def hitung_tinggi_limas(sisi, t):\n",
    "    tinggi = 4 * (1/2 * sisi * t)\n",
    "    return tinggi\n",
    "\n",
    "# Membuat fungsi luas limas persegi\n",
    "# rumus = permukaan limas + tinggi limas\n",
    "def luas_limas_segi_empat(a, b):\n",
    "    luas = a + b\n",
    "    return luas\n",
    "\n",
    "\n",
    "#testing\n",
    "angka_sisi = int(input(\"Masukkan angka sisi: \"))\n",
    "alas_limas = hitung_alas_limas(int(angka_sisi))\n",
    "print(\"Luas alas limas: %d cm2 \\n\" %alas_limas)\n",
    "\n",
    "tinggi = int(input(\"Masukkan angka tinggi: \"))\n",
    "tinggi_limas = hitung_tinggi_limas(angka_sisi, tinggi)\n",
    "print(\"Luas tinggi limas: %d cm2 \\n\" %tinggi_limas)\n",
    "\n",
    "print(\"Luas limas segi empat = alas limas +  tinggi limas\")\n",
    "print(\"Luas = %d + %d \" %(alas_limas, tinggi_limas))\n",
    "print(\"Luas : %d cm2\" % luas_limas_segi_empat(alas_limas, tinggi_limas))\n",
    "\n"
   ]
  },
  {
   "cell_type": "code",
   "execution_count": null,
   "metadata": {},
   "outputs": [],
   "source": []
  }
 ],
 "metadata": {
  "colab": {
   "collapsed_sections": [],
   "name": "5.1_Tugas_Materi_Fungsi.ipynb",
   "provenance": []
  },
  "kernelspec": {
   "display_name": "Python 3",
   "language": "python",
   "name": "python3"
  },
  "language_info": {
   "codemirror_mode": {
    "name": "ipython",
    "version": 3
   },
   "file_extension": ".py",
   "mimetype": "text/x-python",
   "name": "python",
   "nbconvert_exporter": "python",
   "pygments_lexer": "ipython3",
   "version": "3.8.3"
  }
 },
 "nbformat": 4,
 "nbformat_minor": 1
}
