{
 "cells": [
  {
   "cell_type": "code",
   "execution_count": null,
   "metadata": {
    "id": "fkV8YRAQlm-C"
   },
   "outputs": [],
   "source": []
  },
  {
   "cell_type": "markdown",
   "metadata": {
    "id": "lnkJ-zBHl3jp"
   },
   "source": [
    "## Access Element\n",
    "Keunikan lain dari looping dengan python adalah selain bahasa yang mudah dimengerti dalam looping, kita juga bisa mengakses elemen yang terdapat pada sebuah list. Berikut ini contohnya :\n",
    "``` javascript\n",
    "#Tugas 3.2.1\n",
    "count=[1,2,3,4,5] #elemen list\n",
    "\n",
    "for number in count: #looping untuk menampilkan semua elemen pada count\n",
    "    print(\"Ini adalah element count : \", number) #menampilkan elemen list pada count\n",
    "```\n",
    "Implekementasikan kode diatas, ketikan pada code cell di bawah ini, berikan penjelasan terkait kode diatas"
   ]
  },
  {
   "cell_type": "code",
   "execution_count": 6,
   "metadata": {
    "id": "xYjQqqNLm-dB"
   },
   "outputs": [
    {
     "name": "stdout",
     "output_type": "stream",
     "text": [
      "Ini adalah elemen count:  1\n",
      "Ini adalah elemen count:  2\n",
      "Ini adalah elemen count:  3\n",
      "Ini adalah elemen count:  4\n",
      "Ini adalah elemen count:  5\n"
     ]
    }
   ],
   "source": [
    "# Jawaban Tugas 3.2.1\n",
    "\n",
    "#syntax\n",
    "#for variabel_iterasi in sequence:\n",
    "#    statements(s)\n",
    "\n",
    "count=[1,2,3,4,5] #elemen list\n",
    "\n",
    "for number in count: #looping untuk menampilkan semua elemen pada count\n",
    "    print(\"Ini adalah elemen count: \", number) #menampilkan elemen list pada count \n",
    "\n",
    "    \n",
    "#penjelasan\n",
    "#pada perulangan for diatas, kita mncetak sequence yg ada di dalam element list\n",
    "\n",
    "#Sequence adalah kumpulan nilai yang terurut bisa berupa integer, string, list atau yang lain\n",
    "#artinya kita memprint sesuai dengan kumpulan nilai yang sudah\n",
    "#kita tulis didalamnya. Dan urutannya menyesaiakn dengan nilai\n",
    "#yang kita tulis pertama kali didalm sequence.\n",
    "#Pada kumpulan sequence yang ada didalam list diatas,\n",
    "#nilai yang pertama kali kita tulis adalah 1 dlanjutkan dgn 2,3,4 dan 5\n",
    "    \n",
    "    "
   ]
  },
  {
   "cell_type": "markdown",
   "metadata": {
    "id": "figDWKAcnZRA"
   },
   "source": [
    "## Tugas Praktek 3.2.2\n",
    "1. Buatlah sebuah program yang bisa mengeluarkan angka 1 sampai 10.\n",
    "1. Buatlah sebuah program yang bisa mengeluarkan angka -20 sampai -50.\n",
    "3. Tampilan akan menunjukan \"Angka ganjil 1\" untuk angka ganjil dan \"Angka genap 2\" untuk angka genap. (Menggunakan looping for)\n",
    "\n",
    "**Note:** Kode dasar sudah disertakan, Anda cukup mengganti tanda # dengan nilai-nilai yang sesuai."
   ]
  },
  {
   "cell_type": "code",
   "execution_count": 2,
   "metadata": {
    "id": "MElhruOTntzZ"
   },
   "outputs": [
    {
     "name": "stdout",
     "output_type": "stream",
     "text": [
      "1\n",
      "2\n",
      "3\n",
      "4\n",
      "5\n",
      "6\n",
      "7\n",
      "8\n",
      "9\n",
      "10\n"
     ]
    }
   ],
   "source": [
    "#Jawaban Tugas 3.2.1.1\n",
    "#syntax function range() : range(start, stop[, step])\n",
    "for angka in range(1, 11, 1):\n",
    "    print(angka)"
   ]
  },
  {
   "cell_type": "code",
   "execution_count": 5,
   "metadata": {
    "id": "NFtMjrQznuF2"
   },
   "outputs": [
    {
     "name": "stdout",
     "output_type": "stream",
     "text": [
      "[-20][-21][-22][-23][-24][-25][-26][-27][-28][-29][-30][-31][-32][-33][-34][-35][-36][-37][-38][-39][-40][-41][-42][-43][-44][-45][-46][-47][-48][-49][-50]"
     ]
    }
   ],
   "source": [
    "#Jawaban Tugas 3.2.1.2\n",
    "#syntax function range() : range(start, stop[, step])\n",
    "for angka in range(-20, -51, -1):\n",
    "    print(\"[%d]\" %angka, end='') # end='' berfungsi utk disable newline pada fungsi print()"
   ]
  },
  {
   "cell_type": "code",
   "execution_count": 22,
   "metadata": {
    "id": "xpGigMPBpBy7"
   },
   "outputs": [
    {
     "name": "stdout",
     "output_type": "stream",
     "text": [
      "1 = Angka ganjil 1\n",
      "2 = Angka genap 2\n",
      "3 = Angka ganjil 1\n",
      "4 = Angka genap 2\n",
      "5 = Angka ganjil 1\n",
      "6 = Angka genap 2\n",
      "7 = Angka ganjil 1\n",
      "8 = Angka genap 2\n",
      "9 = Angka ganjil 1\n",
      "10 = Angka genap 2\n"
     ]
    }
   ],
   "source": [
    "#Jawaban Tugas 3.2.1.3\n",
    "\n",
    "#syntax function range() : range(start, stop[, step])\n",
    "\n",
    "# cara mencari bilangan genap dan ganjil adalah \n",
    "# bilangan harus habis dibagi 2. Jadi, \n",
    "# jika angka habis dibagi 2 = positif\n",
    "\n",
    "for angka in range(1, 11, 1):\n",
    "    # identifikasi ganjil / genap\n",
    "    perhitungan = angka%2 \n",
    "    if perhitungan == 0:\n",
    "        print(\"%d = Angka genap 2\" %angka)\n",
    "    else:\n",
    "        print(\"%d = Angka ganjil 1\" %angka)"
   ]
  },
  {
   "cell_type": "code",
   "execution_count": null,
   "metadata": {},
   "outputs": [],
   "source": []
  }
 ],
 "metadata": {
  "colab": {
   "collapsed_sections": [],
   "name": "3.2_Tugas_Perulangan.ipynb",
   "provenance": []
  },
  "kernelspec": {
   "display_name": "Python 3",
   "language": "python",
   "name": "python3"
  },
  "language_info": {
   "codemirror_mode": {
    "name": "ipython",
    "version": 3
   },
   "file_extension": ".py",
   "mimetype": "text/x-python",
   "name": "python",
   "nbconvert_exporter": "python",
   "pygments_lexer": "ipython3",
   "version": "3.8.3"
  }
 },
 "nbformat": 4,
 "nbformat_minor": 1
}
