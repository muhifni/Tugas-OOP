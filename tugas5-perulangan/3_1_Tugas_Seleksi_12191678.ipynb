{
 "cells": [
  {
   "cell_type": "code",
   "execution_count": null,
   "metadata": {
    "id": "r3Zdz7GxjwEB"
   },
   "outputs": [],
   "source": []
  },
  {
   "cell_type": "markdown",
   "metadata": {
    "id": "Sh1Z3vgEka_O"
   },
   "source": [
    "##3.1. Tugas:\n",
    "Berikut ini adalah psudo code  untuk melakukan pengecekan bertingkat\n",
    "``` javascript\n",
    "i <= 2\n",
    "IF i < 7 THEN\n",
    "\tCETAK \"Nilai i kurang dari 7\"\n",
    "\tIF i < 3 THEN\n",
    "\t   CETAK \"Nilai i kurang dari 7 dan kurang dari 3\"\n",
    "\tELSE\n",
    "\t\tCETAK \"Nilai i kurang dari 7 tapi kurang dari 3\"\n",
    "\n",
    "```\n",
    "Implekementasikan kode diatas dalam kode python. Ketikan code cell di bawah ini pada editor:"
   ]
  },
  {
   "cell_type": "code",
   "execution_count": 34,
   "metadata": {
    "id": "OV-NfRKHk0Vy"
   },
   "outputs": [],
   "source": [
    "##Jawaban Tugas 3.1\n",
    "i = 10\n",
    "\n",
    "if i < 7:\n",
    "    print(\"Nilai i kurang dari 7\")\n",
    "    if i < 3:\n",
    "        print(\"Nilai i kurang dari 7 dan kurang dari 3\")\n",
    "    else:\n",
    "        print(\"Nilai i kurang dari 7 tapi kurang dari 3\")\n"
   ]
  },
  {
   "cell_type": "code",
   "execution_count": 36,
   "metadata": {},
   "outputs": [
    {
     "name": "stdout",
     "output_type": "stream",
     "text": [
      "Ulang lagi? ya\n",
      "Masukkan nilai i: 10\n",
      "unidentified, repeat again :)\n",
      "Ulang lagi? ya\n",
      "Masukkan nilai i: 4\n",
      "Nilai i kurang dari 7\n",
      "Nilai i kurang dari 7 tapi kurang dari 3\n",
      "\n",
      "Ulang lagi? tidak\n",
      "Terima kasih\n"
     ]
    }
   ],
   "source": [
    "# sedikit modifikasi agar program lebih dinamis\n",
    "\n",
    "while(True):\n",
    "    jawab = input(\"Ulang lagi? \") \n",
    "    if jawab == 'tidak':\n",
    "        break\n",
    "    else:\n",
    "        i = int(input(\"Masukkan nilai i: \"))\n",
    "        if i < 7:\n",
    "            print(\"Nilai i kurang dari 7\")\n",
    "            if i < 3:\n",
    "                print(\"Nilai i kurang dari 7 dan kurang dari 3\")\n",
    "            else:\n",
    "                print(\"Nilai i kurang dari 7 tapi kurang dari 3\\n\")\n",
    "        else:\n",
    "            print(\"unidentified, repeat again :)\\n\")\n",
    "            \n",
    "print(\"Terima kasih\")"
   ]
  },
  {
   "cell_type": "markdown",
   "metadata": {},
   "source": [
    "ditanya, apakah anda ingin mengulangi?\n",
    "jika ya = lanjut\n",
    "jika tidak = break"
   ]
  },
  {
   "cell_type": "code",
   "execution_count": null,
   "metadata": {},
   "outputs": [],
   "source": []
  }
 ],
 "metadata": {
  "colab": {
   "collapsed_sections": [],
   "name": "3.1_Tugas_Seleksi.ipynb",
   "provenance": []
  },
  "kernelspec": {
   "display_name": "Python 3",
   "language": "python",
   "name": "python3"
  },
  "language_info": {
   "codemirror_mode": {
    "name": "ipython",
    "version": 3
   },
   "file_extension": ".py",
   "mimetype": "text/x-python",
   "name": "python",
   "nbconvert_exporter": "python",
   "pygments_lexer": "ipython3",
   "version": "3.8.3"
  }
 },
 "nbformat": 4,
 "nbformat_minor": 1
}
